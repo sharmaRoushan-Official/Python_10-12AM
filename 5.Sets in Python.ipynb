{
 "cells": [
  {
   "cell_type": "markdown",
   "id": "55259e74-28f2-4bcb-9f86-ca89785909f9",
   "metadata": {},
   "source": [
    "# 5. Sets in Python\n",
    "\n",
    " * __Set is one of the 4 build-in data types in python used to store collecitons of data including List, Tuples, and Dictionary.__\n",
    " * __Sets are unoredered, but you can remove items and add new items.__\n",
    " * __Set elements are unique, Duplicate elements are not allowed.__\n",
    " * __A set itself may be modified, but the elements contained in the set must be immutable type.__\n",
    " * __sets are used to store multiple items in a single variable.__\n",
    " * __You can denote a set with a pair of curly brackets.{}__"
   ]
  },
  {
   "cell_type": "code",
   "execution_count": 2,
   "id": "a720d69d-9f92-4af4-81c2-e5d082bb881a",
   "metadata": {},
   "outputs": [
    {
     "name": "stdout",
     "output_type": "stream",
     "text": [
      "{}\n",
      "<class 'dict'>\n"
     ]
    }
   ],
   "source": [
    "# Empty sets in python\n",
    "set1 = {}\n",
    "print(set1)\n",
    "print(type(set1))"
   ]
  },
  {
   "cell_type": "code",
   "execution_count": 3,
   "id": "342a2bf2-1714-48c4-beca-8f60fff947c1",
   "metadata": {},
   "outputs": [
    {
     "name": "stdout",
     "output_type": "stream",
     "text": [
      "{1}\n",
      "<class 'set'>\n"
     ]
    }
   ],
   "source": [
    "set1 = {1}\n",
    "print(set1)\n",
    "print(type(set1))"
   ]
  },
  {
   "cell_type": "code",
   "execution_count": 5,
   "id": "d4a6cd5a-81a0-4077-bc8a-d63f0efe763e",
   "metadata": {},
   "outputs": [
    {
     "name": "stdout",
     "output_type": "stream",
     "text": [
      "set()\n",
      "<class 'set'>\n"
     ]
    }
   ],
   "source": [
    "# How can i create empty set.\n",
    "\n",
    "# set()\n",
    "set2 = set()\n",
    "print(set2)\n",
    "print(type(set2))"
   ]
  },
  {
   "cell_type": "code",
   "execution_count": 8,
   "id": "58a5cc29-9867-4dc7-8490-2ff0a4883c86",
   "metadata": {},
   "outputs": [
    {
     "name": "stdout",
     "output_type": "stream",
     "text": [
      "{False, 1.618, True, 3.14, 'Hello world', 'Hello Python', 2022}\n"
     ]
    }
   ],
   "source": [
    "set3 = {'Hello Python',3.14,1.618,'Hello world',3.14,1.618,True,False,2022}\n",
    "print(set3)"
   ]
  },
  {
   "cell_type": "code",
   "execution_count": 41,
   "id": "2b73241a-19f3-4ff7-b65b-b9ce5ef312aa",
   "metadata": {},
   "outputs": [
    {
     "name": "stdout",
     "output_type": "stream",
     "text": [
      "['Hello Python', 3.14, 1.618, 'Hello world Hello Python', 3.14, 1.618, True, False, 2022, 'Hello world Hello Python']\n",
      "<class 'list'>\n",
      "{False, 1.618, True, 3.14, 'Hello Python', 2022, 'Hello world Hello Python'}\n"
     ]
    }
   ],
   "source": [
    "# list\n",
    "\n",
    "nlis = ['Hello Python',3.14,1.618,'Hello world Hello Python',3.14,1.618,True,False,2022,'Hello world Hello Python']\n",
    "print(nlis)\n",
    "print(type(nlis))\n",
    "\n",
    "\n",
    "# converting into set\n",
    "\n",
    "set4 = set(nlis)\n",
    "print(set4)"
   ]
  },
  {
   "cell_type": "code",
   "execution_count": 42,
   "id": "f20516a1-5e23-458a-876a-a6976d86150d",
   "metadata": {},
   "outputs": [
    {
     "name": "stdout",
     "output_type": "stream",
     "text": [
      "<class 'set'>\n"
     ]
    }
   ],
   "source": [
    "print(type(set4))"
   ]
  },
  {
   "cell_type": "code",
   "execution_count": 43,
   "id": "5ea88fa8-c296-4c07-bcf8-39da078c47ea",
   "metadata": {},
   "outputs": [
    {
     "data": {
      "text/plain": [
       "{1.618, 2022, 3.14, False, 'Hello Python', 'Hello world Hello Python', True}"
      ]
     },
     "execution_count": 43,
     "metadata": {},
     "output_type": "execute_result"
    }
   ],
   "source": [
    "# Set operations\n",
    "\n",
    "set4"
   ]
  },
  {
   "cell_type": "code",
   "execution_count": 44,
   "id": "09eb4100-c452-47da-8f41-df5f8f3fc859",
   "metadata": {},
   "outputs": [
    {
     "name": "stdout",
     "output_type": "stream",
     "text": [
      "{False, 1.618, True, 3.14, 'Hello Python', 2022, 'Hello world Hello Python', 'Chinmay'}\n"
     ]
    }
   ],
   "source": [
    "# add() function\n",
    "\n",
    "set4.add('Chinmay')\n",
    "print(set4)"
   ]
  },
  {
   "cell_type": "code",
   "execution_count": 45,
   "id": "d48b9dd9-9492-41f9-a3a6-74f282f5461c",
   "metadata": {},
   "outputs": [
    {
     "name": "stdout",
     "output_type": "stream",
     "text": [
      "{False, 1.618, True, 3.14, 'Hello Python', 2022, 'Hello world Hello Python', 'Chinmay', 'chinmay'}\n"
     ]
    }
   ],
   "source": [
    "set4.add('chinmay')\n",
    "print(set4)"
   ]
  },
  {
   "cell_type": "code",
   "execution_count": 46,
   "id": "6d8c6513-28cc-45f3-9b8e-cc9966112e48",
   "metadata": {},
   "outputs": [
    {
     "name": "stdout",
     "output_type": "stream",
     "text": [
      "{100, 'Pune'}\n"
     ]
    }
   ],
   "source": [
    "# updating sets \n",
    "set5 = {'Pune',100}\n",
    "print(set5)"
   ]
  },
  {
   "cell_type": "code",
   "execution_count": 47,
   "id": "d10dea28-6a69-400f-b20d-7e8e534f74e0",
   "metadata": {},
   "outputs": [
    {
     "name": "stdout",
     "output_type": "stream",
     "text": [
      "{False, 1.618, True, 3.14, 100, 'Hello Python', 2022, 'Hello world Hello Python', 'Chinmay', 'chinmay', 'Pune'}\n"
     ]
    }
   ],
   "source": [
    "# print(set4)\n",
    "\n",
    "set4.update(set5)\n",
    "print(set4)"
   ]
  },
  {
   "cell_type": "code",
   "execution_count": 48,
   "id": "ea7bc8e4-d78f-4a42-a92a-f5f558ac6b37",
   "metadata": {},
   "outputs": [
    {
     "ename": "TypeError",
     "evalue": "'set' object is not subscriptable",
     "output_type": "error",
     "traceback": [
      "\u001b[1;31m---------------------------------------------------------------------------\u001b[0m",
      "\u001b[1;31mTypeError\u001b[0m                                 Traceback (most recent call last)",
      "Cell \u001b[1;32mIn[48], line 4\u001b[0m\n\u001b[0;32m      1\u001b[0m \u001b[38;5;66;03m# remove element inside the set\u001b[39;00m\n\u001b[0;32m      2\u001b[0m \n\u001b[0;32m      3\u001b[0m \u001b[38;5;66;03m# remove()\u001b[39;00m\n\u001b[1;32m----> 4\u001b[0m \u001b[43mset4\u001b[49m\u001b[43m[\u001b[49m\u001b[38;5;241;43m0\u001b[39;49m\u001b[43m]\u001b[49m\n",
      "\u001b[1;31mTypeError\u001b[0m: 'set' object is not subscriptable"
     ]
    }
   ],
   "source": [
    "# remove element inside the set\n",
    "\n",
    "# remove()\n",
    "set4[0]"
   ]
  },
  {
   "cell_type": "code",
   "execution_count": 49,
   "id": "052c1042-9135-4e22-9784-a3ab2707c50a",
   "metadata": {},
   "outputs": [
    {
     "name": "stdout",
     "output_type": "stream",
     "text": [
      "{False, 1.618, True, 3.14, 100, 'Hello Python', 2022, 'Hello world Hello Python', 'Chinmay', 'Pune'}\n"
     ]
    }
   ],
   "source": [
    "set4.remove('chinmay')\n",
    "print(set4)"
   ]
  },
  {
   "cell_type": "code",
   "execution_count": 50,
   "id": "0a2cd745-9f20-44af-b718-e7d3298c0265",
   "metadata": {},
   "outputs": [
    {
     "name": "stdout",
     "output_type": "stream",
     "text": [
      "{False, 1.618, True, 3.14, 100, 'Hello Python', 2022, 'Hello world Hello Python', 'Pune'}\n"
     ]
    }
   ],
   "source": [
    "set4.remove('Chinmay')\n",
    "print(set4)"
   ]
  },
  {
   "cell_type": "code",
   "execution_count": 37,
   "id": "be46fddc-cb1f-4ff8-a7bf-9fa4fe8a09bb",
   "metadata": {},
   "outputs": [],
   "source": [
    "del(set4)"
   ]
  },
  {
   "cell_type": "code",
   "execution_count": 38,
   "id": "4874fc00-4765-4038-bd8e-a3d8d9184d59",
   "metadata": {},
   "outputs": [
    {
     "ename": "NameError",
     "evalue": "name 'set4' is not defined",
     "output_type": "error",
     "traceback": [
      "\u001b[1;31m---------------------------------------------------------------------------\u001b[0m",
      "\u001b[1;31mNameError\u001b[0m                                 Traceback (most recent call last)",
      "Cell \u001b[1;32mIn[38], line 1\u001b[0m\n\u001b[1;32m----> 1\u001b[0m \u001b[43mset4\u001b[49m\n",
      "\u001b[1;31mNameError\u001b[0m: name 'set4' is not defined"
     ]
    }
   ],
   "source": [
    "set4"
   ]
  },
  {
   "cell_type": "code",
   "execution_count": 51,
   "id": "a4b44825-a18b-461a-9bba-81f077a41500",
   "metadata": {},
   "outputs": [
    {
     "ename": "KeyError",
     "evalue": "'Chinmay'",
     "output_type": "error",
     "traceback": [
      "\u001b[1;31m---------------------------------------------------------------------------\u001b[0m",
      "\u001b[1;31mKeyError\u001b[0m                                  Traceback (most recent call last)",
      "Cell \u001b[1;32mIn[51], line 2\u001b[0m\n\u001b[0;32m      1\u001b[0m \u001b[38;5;66;03m# remove()\u001b[39;00m\n\u001b[1;32m----> 2\u001b[0m \u001b[43mset4\u001b[49m\u001b[38;5;241;43m.\u001b[39;49m\u001b[43mremove\u001b[49m\u001b[43m(\u001b[49m\u001b[38;5;124;43m'\u001b[39;49m\u001b[38;5;124;43mChinmay\u001b[39;49m\u001b[38;5;124;43m'\u001b[39;49m\u001b[43m)\u001b[49m\n",
      "\u001b[1;31mKeyError\u001b[0m: 'Chinmay'"
     ]
    }
   ],
   "source": [
    "# remove()\n",
    "set4.remove('Chinmay')"
   ]
  },
  {
   "cell_type": "code",
   "execution_count": 53,
   "id": "eb6fd8e8-a531-4280-82fa-9072679b68c4",
   "metadata": {},
   "outputs": [
    {
     "name": "stdout",
     "output_type": "stream",
     "text": [
      "{False, 1.618, True, 3.14, 100, 'Hello Python', 2022, 'Hello world Hello Python', 'Pune'}\n"
     ]
    }
   ],
   "source": [
    "# discard() function: It also work like remove but if element is not found inside the set it will return whole set not error.\n",
    "print(set4)"
   ]
  },
  {
   "cell_type": "code",
   "execution_count": 57,
   "id": "7d6e6c28-5e5b-456d-87ba-df49dccccda5",
   "metadata": {},
   "outputs": [
    {
     "name": "stdout",
     "output_type": "stream",
     "text": [
      "{False, 1.618, True, 3.14, 100, 'Hello Python', 2022, 'Hello world Hello Python', 'Pune'}\n"
     ]
    }
   ],
   "source": [
    "set4.discard('Chinmay')\n",
    "print(set4)"
   ]
  },
  {
   "cell_type": "code",
   "execution_count": 58,
   "id": "2e325b1e-71a3-48bc-840a-59ac21938768",
   "metadata": {},
   "outputs": [
    {
     "name": "stdout",
     "output_type": "stream",
     "text": [
      "{False, 1.618, True, 3.14, 100, 'Hello Python', 2022, 'Hello world Hello Python'}\n"
     ]
    }
   ],
   "source": [
    "set4.discard('Pune')\n",
    "print(set4)"
   ]
  },
  {
   "cell_type": "code",
   "execution_count": 59,
   "id": "02a5465c-4af3-4f16-a467-3f7813bfa7ec",
   "metadata": {},
   "outputs": [
    {
     "name": "stdout",
     "output_type": "stream",
     "text": [
      "{False, 1.618, True, 3.14, 100, 'Hello Python', 2022, 'Hello world Hello Python'}\n"
     ]
    }
   ],
   "source": [
    "set4.discard('Pune')\n",
    "print(set4)"
   ]
  },
  {
   "cell_type": "markdown",
   "id": "81a51a12-c1ce-47da-b425-4d0bdc5d001d",
   "metadata": {},
   "source": [
    "# Logic Operations\n",
    "\n",
    "# Union\n",
    "# Intersection\n",
    "# difference\n",
    "# symmetric Difference"
   ]
  },
  {
   "cell_type": "code",
   "execution_count": 60,
   "id": "cb96a5cb-4ec1-4694-8da4-e8169f1ff8d1",
   "metadata": {},
   "outputs": [
    {
     "name": "stdout",
     "output_type": "stream",
     "text": [
      "{8, 2, 4, 6}\n",
      "{4, 6, 8, 10, 12}\n"
     ]
    }
   ],
   "source": [
    "# Union\n",
    "\n",
    "set_a = {2,4,6,8}  # {2,4,6,8,10,12}\n",
    "\n",
    "set_b = {4,6,8,10,12}\n",
    "print(set_a)\n",
    "print(set_b)"
   ]
  },
  {
   "cell_type": "code",
   "execution_count": 61,
   "id": "bd3a578d-81a3-4a06-9038-342d0fd97f75",
   "metadata": {},
   "outputs": [
    {
     "name": "stdout",
     "output_type": "stream",
     "text": [
      "{2, 4, 6, 8, 10, 12}\n"
     ]
    }
   ],
   "source": [
    "# union\n",
    "\n",
    "set_c = set_a.union(set_b)\n",
    "print(set_c)"
   ]
  },
  {
   "cell_type": "code",
   "execution_count": 62,
   "id": "e7b40333-e1f8-4afa-9c8a-149aec776fdc",
   "metadata": {},
   "outputs": [
    {
     "name": "stdout",
     "output_type": "stream",
     "text": [
      "{8, 2, 4, 6}\n",
      "{4, 6, 8, 10, 12}\n"
     ]
    }
   ],
   "source": [
    "# Intersection\n",
    "\n",
    "set_a = {2,4,6,8}  # {4,6,8}\n",
    "\n",
    "set_b = {4,6,8,10,12}\n",
    "print(set_a)\n",
    "print(set_b)"
   ]
  },
  {
   "cell_type": "code",
   "execution_count": 63,
   "id": "d53d87cf-cf30-45d2-8c28-b482719f8d8b",
   "metadata": {},
   "outputs": [
    {
     "name": "stdout",
     "output_type": "stream",
     "text": [
      "{8, 4, 6}\n"
     ]
    }
   ],
   "source": [
    "set_d = set_a.intersection(set_b)\n",
    "print(set_d)"
   ]
  },
  {
   "cell_type": "code",
   "execution_count": 64,
   "id": "a3b610c8-19a7-4774-a201-bd919494ba59",
   "metadata": {},
   "outputs": [
    {
     "data": {
      "text/plain": [
       "{4, 6, 8}"
      ]
     },
     "execution_count": 64,
     "metadata": {},
     "output_type": "execute_result"
    }
   ],
   "source": [
    "set_a & set_b"
   ]
  },
  {
   "cell_type": "code",
   "execution_count": 65,
   "id": "505d8757-e75e-4091-a404-40250122f318",
   "metadata": {},
   "outputs": [
    {
     "name": "stdout",
     "output_type": "stream",
     "text": [
      "{8, 2, 4, 6}\n",
      "{4, 6, 8, 10, 12}\n"
     ]
    }
   ],
   "source": [
    "# Difference (a-b) (b-a)\n",
    "\n",
    "set_a = {2,4,6,8}   # a\n",
    "\n",
    "set_b = {4,6,8,10,12}\n",
    "print(set_a)\n",
    "print(set_b)"
   ]
  },
  {
   "cell_type": "code",
   "execution_count": 67,
   "id": "ff02eb67-29ac-4b9f-beb4-c84f80a7b58a",
   "metadata": {},
   "outputs": [
    {
     "name": "stdout",
     "output_type": "stream",
     "text": [
      "{2}\n",
      "{10, 12}\n"
     ]
    }
   ],
   "source": [
    "set_e = set_a.difference(set_b)\n",
    "print(set_e)\n",
    "\n",
    "\n",
    "set_f = set_b.difference(set_a)\n",
    "print(set_f)"
   ]
  },
  {
   "cell_type": "code",
   "execution_count": 68,
   "id": "76056a9a-1d46-4caa-96f8-a2e89cb5c978",
   "metadata": {},
   "outputs": [
    {
     "name": "stdout",
     "output_type": "stream",
     "text": [
      "{2}\n",
      "{10, 12}\n"
     ]
    }
   ],
   "source": [
    "set_e = set_a-set_b\n",
    "print(set_e)\n",
    "\n",
    "\n",
    "set_f = set_b- set_a\n",
    "print(set_f)"
   ]
  },
  {
   "cell_type": "code",
   "execution_count": 69,
   "id": "ef14ac1d-4f33-44fc-b448-58e6cf111e10",
   "metadata": {},
   "outputs": [
    {
     "name": "stdout",
     "output_type": "stream",
     "text": [
      "{8, 2, 4, 6}\n",
      "{4, 6, 8, 10, 12}\n"
     ]
    }
   ],
   "source": [
    "# symmetric difference\n",
    "# Difference (a-b) (b-a)\n",
    "\n",
    "set_a = {2,4,6,8}   # a   {2,10,12}\n",
    "\n",
    "set_b = {4,6,8,10,12}\n",
    "print(set_a)\n",
    "print(set_b)"
   ]
  },
  {
   "cell_type": "code",
   "execution_count": 70,
   "id": "e44167f3-0324-4098-9687-f258c7662e10",
   "metadata": {},
   "outputs": [
    {
     "data": {
      "text/plain": [
       "{2, 10, 12}"
      ]
     },
     "execution_count": 70,
     "metadata": {},
     "output_type": "execute_result"
    }
   ],
   "source": [
    "set_a.symmetric_difference(set_b)"
   ]
  },
  {
   "cell_type": "markdown",
   "id": "bc326c6c-cce8-4440-81ab-3c32e693741a",
   "metadata": {},
   "source": [
    "# clear() function"
   ]
  },
  {
   "cell_type": "code",
   "execution_count": 71,
   "id": "c78a129e-1c0a-4440-98a6-e81a90c4680a",
   "metadata": {},
   "outputs": [
    {
     "name": "stdout",
     "output_type": "stream",
     "text": [
      "{10, 12, 45}\n"
     ]
    }
   ],
   "source": [
    "x = {10,12,45}\n",
    "print(x)\n"
   ]
  },
  {
   "cell_type": "code",
   "execution_count": 72,
   "id": "a4db9672-ce12-4178-aeac-74d6bc352a84",
   "metadata": {},
   "outputs": [
    {
     "data": {
      "text/plain": [
       "set()"
      ]
     },
     "execution_count": 72,
     "metadata": {},
     "output_type": "execute_result"
    }
   ],
   "source": [
    "x.clear()\n",
    "x"
   ]
  },
  {
   "cell_type": "markdown",
   "id": "114362db-98ca-4468-a166-c5e1ac3b2fcd",
   "metadata": {},
   "source": [
    "# pop() function"
   ]
  },
  {
   "cell_type": "code",
   "execution_count": 73,
   "id": "b08a0865-6239-4c7d-a37e-79767e77b9a1",
   "metadata": {},
   "outputs": [
    {
     "data": {
      "text/plain": [
       "{0, 1, 2, 5}"
      ]
     },
     "execution_count": 73,
     "metadata": {},
     "output_type": "execute_result"
    }
   ],
   "source": [
    "x = {0,0,1,1,1,1,2,2,5,5,5,5}\n",
    "x"
   ]
  },
  {
   "cell_type": "code",
   "execution_count": 75,
   "id": "fa878087-44fc-4815-86cd-5e4346ac2726",
   "metadata": {},
   "outputs": [
    {
     "name": "stdout",
     "output_type": "stream",
     "text": [
      "{2, 5}\n"
     ]
    }
   ],
   "source": [
    "x.pop()\n",
    "print(x)"
   ]
  },
  {
   "cell_type": "code",
   "execution_count": null,
   "id": "429c59c8-0b52-46b2-b12c-0d5eb4be4c74",
   "metadata": {},
   "outputs": [],
   "source": []
  }
 ],
 "metadata": {
  "kernelspec": {
   "display_name": "Python 3 (ipykernel)",
   "language": "python",
   "name": "python3"
  },
  "language_info": {
   "codemirror_mode": {
    "name": "ipython",
    "version": 3
   },
   "file_extension": ".py",
   "mimetype": "text/x-python",
   "name": "python",
   "nbconvert_exporter": "python",
   "pygments_lexer": "ipython3",
   "version": "3.12.2"
  }
 },
 "nbformat": 4,
 "nbformat_minor": 5
}
