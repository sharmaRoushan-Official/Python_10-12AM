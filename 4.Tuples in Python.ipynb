{
 "cells": [
  {
   "cell_type": "markdown",
   "id": "9a840852-0856-4884-b044-742c12eb5f75",
   "metadata": {},
   "source": [
    "# 4. Tuples in Python\n",
    "\n",
    " * __Tuples are immutable lists and cannot be changed in any way once it is created.__\n",
    " * __They are enclosed within parenthesis and not within square braces.__\n",
    " * __Tuples are ordered, indexed collections of data.__\n",
    " * __Similar to string indices, the first value in the tuple will have the index[0], the second value[1].__\n",
    " * __Negative indices are counted from the end of the tuple, just like lists.__\n",
    " * __Tuple also has the same structure where commas separate the value.__\n",
    " * __Tuples can store duplicate values.__\n",
    " * __Tuples allow you to store several data items including string, integer, float in one variable.__"
   ]
  },
  {
   "cell_type": "code",
   "execution_count": 4,
   "id": "6e4afce7-cdcf-480e-a2a2-482feb89b881",
   "metadata": {},
   "outputs": [
    {
     "name": "stdout",
     "output_type": "stream",
     "text": [
      "()\n",
      "<class 'tuple'>\n"
     ]
    }
   ],
   "source": [
    "# Creating empty tuples\n",
    "\n",
    "tup = ()\n",
    "print(tup)\n",
    "print(type(tup))"
   ]
  },
  {
   "cell_type": "code",
   "execution_count": 5,
   "id": "a1d77d3d-f91b-44a3-a3c7-6434e3ed1a71",
   "metadata": {},
   "outputs": [
    {
     "name": "stdout",
     "output_type": "stream",
     "text": [
      "[1]\n",
      "<class 'list'>\n"
     ]
    }
   ],
   "source": [
    "# single element as a tuple\n",
    "\n",
    "list1 = [1]\n",
    "print(list1)\n",
    "print(type(list1))"
   ]
  },
  {
   "cell_type": "code",
   "execution_count": 11,
   "id": "51cef30b-14c0-4711-abbc-441270b3a8c4",
   "metadata": {},
   "outputs": [
    {
     "name": "stdout",
     "output_type": "stream",
     "text": [
      "(1,)\n",
      "<class 'tuple'>\n"
     ]
    }
   ],
   "source": [
    "tup1 = (1,)\n",
    "print(tup1)\n",
    "print(type(tup1))"
   ]
  },
  {
   "cell_type": "code",
   "execution_count": 15,
   "id": "3557b702-47d9-46c1-8afd-3a80ae8a3c18",
   "metadata": {},
   "outputs": [
    {
     "name": "stdout",
     "output_type": "stream",
     "text": [
      "('1',)\n"
     ]
    }
   ],
   "source": [
    "# tuple() data type\n",
    "\n",
    "tp1 = tuple('1')\n",
    "print(tp1)"
   ]
  },
  {
   "cell_type": "code",
   "execution_count": 17,
   "id": "d56f0432-b3db-47e4-9aa7-b805c5b9db1c",
   "metadata": {},
   "outputs": [
    {
     "name": "stdout",
     "output_type": "stream",
     "text": [
      "('Hello world', 3.14, 100, True, False, ['Hello world', 100], ('Python', 5000), {1, 2, 3})\n"
     ]
    }
   ],
   "source": [
    "tuple1 = (\"Hello world\",3.14,100,True,False,['Hello world',100],(\"Python\",5000),{1,1,1,2,2,3,3})\n",
    "print(tuple1)"
   ]
  },
  {
   "cell_type": "code",
   "execution_count": 26,
   "id": "4685f171-9fa6-4674-b431-4dc008909fdc",
   "metadata": {},
   "outputs": [
    {
     "name": "stdout",
     "output_type": "stream",
     "text": [
      "Hello\n"
     ]
    }
   ],
   "source": [
    "# Accessing value inside the tuple\n",
    "\n",
    "print(tuple1[0][0:5])"
   ]
  },
  {
   "cell_type": "code",
   "execution_count": 29,
   "id": "42090dd1-ab2a-437b-b9bf-6f5c9bd81b18",
   "metadata": {},
   "outputs": [
    {
     "name": "stdout",
     "output_type": "stream",
     "text": [
      "Py\n"
     ]
    }
   ],
   "source": [
    "print(tuple1[-2][0][0:2])"
   ]
  },
  {
   "cell_type": "code",
   "execution_count": 33,
   "id": "7fb179a3-bea0-410a-8426-caa55c4abdbb",
   "metadata": {},
   "outputs": [],
   "source": [
    "# accessing list inside the tuple\n",
    "\n",
    "tuple1[5][0] = 'Hello python'"
   ]
  },
  {
   "cell_type": "code",
   "execution_count": 35,
   "id": "1299d7e1-1719-4bdd-a15c-c99dc383eb44",
   "metadata": {},
   "outputs": [
    {
     "name": "stdout",
     "output_type": "stream",
     "text": [
      "('Hello world', 3.14, 100, True, False, ['Hello python', 100], ('Python', 5000), {1, 2, 3})\n"
     ]
    }
   ],
   "source": [
    "print(tuple1)"
   ]
  },
  {
   "cell_type": "code",
   "execution_count": 36,
   "id": "1403e54b-0701-41b2-b146-08044fd839e1",
   "metadata": {},
   "outputs": [
    {
     "name": "stdout",
     "output_type": "stream",
     "text": [
      "Hello world\n"
     ]
    }
   ],
   "source": [
    "print(tuple1[0])"
   ]
  },
  {
   "cell_type": "code",
   "execution_count": 38,
   "id": "733039bd-0953-4a20-af78-64a78ef0ce6a",
   "metadata": {},
   "outputs": [
    {
     "ename": "TypeError",
     "evalue": "'tuple' object does not support item assignment",
     "output_type": "error",
     "traceback": [
      "\u001b[1;31m---------------------------------------------------------------------------\u001b[0m",
      "\u001b[1;31mTypeError\u001b[0m                                 Traceback (most recent call last)",
      "Cell \u001b[1;32mIn[38], line 1\u001b[0m\n\u001b[1;32m----> 1\u001b[0m \u001b[43mtuple1\u001b[49m\u001b[43m[\u001b[49m\u001b[38;5;241;43m0\u001b[39;49m\u001b[43m]\u001b[49m \u001b[38;5;241m=\u001b[39m \u001b[38;5;124m'\u001b[39m\u001b[38;5;124mHello python\u001b[39m\u001b[38;5;124m'\u001b[39m\n\u001b[0;32m      2\u001b[0m \u001b[38;5;28mprint\u001b[39m(tuple1)\n",
      "\u001b[1;31mTypeError\u001b[0m: 'tuple' object does not support item assignment"
     ]
    }
   ],
   "source": [
    "tuple1[0] = 'Hello python'\n",
    "print(tuple1)"
   ]
  },
  {
   "cell_type": "code",
   "execution_count": 40,
   "id": "a51b37b1-20bc-4060-89fe-d7afe26a6dcb",
   "metadata": {},
   "outputs": [
    {
     "name": "stdout",
     "output_type": "stream",
     "text": [
      "('Hello world', 3.14, 100, True, False, ['Hello python', 100], ('Python', 5000), {1, 2, 3})\n"
     ]
    }
   ],
   "source": [
    "print(tuple1)"
   ]
  },
  {
   "cell_type": "code",
   "execution_count": 44,
   "id": "7905ad25-fe34-450e-ab26-86436c0ed2a9",
   "metadata": {},
   "outputs": [
    {
     "name": "stdout",
     "output_type": "stream",
     "text": [
      "Hello world\n",
      "<class 'str'>\n",
      "['Hello python', 100]\n",
      "<class 'list'>\n"
     ]
    }
   ],
   "source": [
    "#\n",
    "print(tuple1[0])\n",
    "print(type(tuple1[0]))\n",
    "\n",
    "print(tuple1[5])\n",
    "print(type(tuple1[5]))"
   ]
  },
  {
   "cell_type": "code",
   "execution_count": 45,
   "id": "2760cd91-f2ba-47bc-a280-991e04cb8273",
   "metadata": {},
   "outputs": [
    {
     "name": "stdout",
     "output_type": "stream",
     "text": [
      "('Hello world', 'Python', True, False)\n"
     ]
    }
   ],
   "source": [
    "# concatenation of tuple\n",
    "\n",
    "tup1 = ('Hello world','Python')\n",
    "tup2= (True,False)\n",
    "\n",
    "tup3 = tup1+tup2\n",
    "print(tup3)"
   ]
  },
  {
   "cell_type": "code",
   "execution_count": 48,
   "id": "b4e5cea9-ae35-439d-bbb2-76f2a5a900a5",
   "metadata": {},
   "outputs": [
    {
     "data": {
      "text/plain": [
       "(1, 2, 3, 4, 5, 1, 2, 3, 4, 5, 1, 2, 3, 4, 5)"
      ]
     },
     "execution_count": 48,
     "metadata": {},
     "output_type": "execute_result"
    }
   ],
   "source": [
    "# Repetation of tuple\n",
    "rep_tup = (1,2,3,4,5)\n",
    "rep_tup*3"
   ]
  },
  {
   "cell_type": "code",
   "execution_count": 49,
   "id": "5035fbaf-bbf7-4da2-8bc9-5a9b19fd5c98",
   "metadata": {},
   "outputs": [
    {
     "data": {
      "text/plain": [
       "(1, 2, 3, 4, 5)"
      ]
     },
     "execution_count": 49,
     "metadata": {},
     "output_type": "execute_result"
    }
   ],
   "source": [
    "# Membership : in or not in\n",
    "\n",
    "rep_tup"
   ]
  },
  {
   "cell_type": "code",
   "execution_count": 52,
   "id": "cafe091f-ee35-4cb7-bafa-c25d2628b3c8",
   "metadata": {},
   "outputs": [
    {
     "name": "stdout",
     "output_type": "stream",
     "text": [
      "True\n",
      "False\n",
      "True\n"
     ]
    }
   ],
   "source": [
    "print(2 in rep_tup)\n",
    "print(6 in rep_tup)\n",
    "print(100 not in rep_tup)"
   ]
  },
  {
   "cell_type": "code",
   "execution_count": 53,
   "id": "18d64158-b2fd-4ebf-b5d0-07879d964422",
   "metadata": {},
   "outputs": [
    {
     "data": {
      "text/plain": [
       "(1, 2, 3, 4, 5, 1, 2, 3, 4, 5, 1, 2, 3, 4, 5)"
      ]
     },
     "execution_count": 53,
     "metadata": {},
     "output_type": "execute_result"
    }
   ],
   "source": [
    "rep_tup = (1,2,3,4,5)\n",
    "rep_tup*3"
   ]
  },
  {
   "cell_type": "code",
   "execution_count": 58,
   "id": "e15e7bd6-4f25-418d-b33b-1a7f85ead9bd",
   "metadata": {},
   "outputs": [
    {
     "name": "stdout",
     "output_type": "stream",
     "text": [
      "3 6 9 12 15 "
     ]
    }
   ],
   "source": [
    "for i in rep_tup:\n",
    "    y = i*3\n",
    "    print(y,end=\" \")"
   ]
  },
  {
   "cell_type": "code",
   "execution_count": 60,
   "id": "a90a6b24-0b08-4161-be18-8400513c9b0c",
   "metadata": {},
   "outputs": [
    {
     "data": {
      "text/plain": [
       "('Hello world', 100)"
      ]
     },
     "execution_count": 60,
     "metadata": {},
     "output_type": "execute_result"
    }
   ],
   "source": [
    "# tuple is immutable\n",
    "\n",
    "tup1 = ('Hello world',100)\n",
    "tup1"
   ]
  },
  {
   "cell_type": "code",
   "execution_count": 62,
   "id": "25d37813-c910-4325-9920-e238d6711fd0",
   "metadata": {},
   "outputs": [
    {
     "ename": "TypeError",
     "evalue": "'tuple' object does not support item assignment",
     "output_type": "error",
     "traceback": [
      "\u001b[1;31m---------------------------------------------------------------------------\u001b[0m",
      "\u001b[1;31mTypeError\u001b[0m                                 Traceback (most recent call last)",
      "Cell \u001b[1;32mIn[62], line 1\u001b[0m\n\u001b[1;32m----> 1\u001b[0m \u001b[43mtup1\u001b[49m\u001b[43m[\u001b[49m\u001b[38;5;241;43m0\u001b[39;49m\u001b[43m]\u001b[49m \u001b[38;5;241m=\u001b[39m \u001b[38;5;124m'\u001b[39m\u001b[38;5;124mheloo python\u001b[39m\u001b[38;5;124m'\u001b[39m\n\u001b[0;32m      2\u001b[0m tup1\n",
      "\u001b[1;31mTypeError\u001b[0m: 'tuple' object does not support item assignment"
     ]
    }
   ],
   "source": [
    "tup1[0] = 'heloo python'\n",
    "tup1"
   ]
  },
  {
   "cell_type": "code",
   "execution_count": 65,
   "id": "021355bb-a632-4f7a-9dc0-a603d29c32d1",
   "metadata": {},
   "outputs": [
    {
     "ename": "TypeError",
     "evalue": "'tuple' object doesn't support item deletion",
     "output_type": "error",
     "traceback": [
      "\u001b[1;31m---------------------------------------------------------------------------\u001b[0m",
      "\u001b[1;31mTypeError\u001b[0m                                 Traceback (most recent call last)",
      "Cell \u001b[1;32mIn[65], line 2\u001b[0m\n\u001b[0;32m      1\u001b[0m \u001b[38;5;66;03m# deleting element inside the tuple\u001b[39;00m\n\u001b[1;32m----> 2\u001b[0m \u001b[38;5;28;01mdel\u001b[39;00m(\u001b[43mtup1\u001b[49m\u001b[43m[\u001b[49m\u001b[38;5;241;43m0\u001b[39;49m\u001b[43m]\u001b[49m)\n",
      "\u001b[1;31mTypeError\u001b[0m: 'tuple' object doesn't support item deletion"
     ]
    }
   ],
   "source": [
    "# deleting element inside the tuple\n",
    "del(tup1[0])"
   ]
  },
  {
   "cell_type": "code",
   "execution_count": 66,
   "id": "49d7ce13-481e-4d66-83e4-201cb4ef9855",
   "metadata": {},
   "outputs": [
    {
     "data": {
      "text/plain": [
       "('Hello world', 100)"
      ]
     },
     "execution_count": 66,
     "metadata": {},
     "output_type": "execute_result"
    }
   ],
   "source": [
    "tup1"
   ]
  },
  {
   "cell_type": "code",
   "execution_count": 67,
   "id": "acef3edb-9f59-4f47-8332-008952101748",
   "metadata": {},
   "outputs": [
    {
     "ename": "AttributeError",
     "evalue": "'tuple' object has no attribute 'append'",
     "output_type": "error",
     "traceback": [
      "\u001b[1;31m---------------------------------------------------------------------------\u001b[0m",
      "\u001b[1;31mAttributeError\u001b[0m                            Traceback (most recent call last)",
      "Cell \u001b[1;32mIn[67], line 1\u001b[0m\n\u001b[1;32m----> 1\u001b[0m \u001b[43mtup1\u001b[49m\u001b[38;5;241;43m.\u001b[39;49m\u001b[43mappend\u001b[49m(\u001b[38;5;124m'\u001b[39m\u001b[38;5;124mHello python\u001b[39m\u001b[38;5;124m'\u001b[39m)\n\u001b[0;32m      2\u001b[0m tup1\n",
      "\u001b[1;31mAttributeError\u001b[0m: 'tuple' object has no attribute 'append'"
     ]
    }
   ],
   "source": [
    "tup1.append('Hello python')\n",
    "tup1"
   ]
  },
  {
   "cell_type": "code",
   "execution_count": 68,
   "id": "cee8563b-eb84-4f21-9707-107858cf75e7",
   "metadata": {},
   "outputs": [
    {
     "data": {
      "text/plain": [
       "(0, 1, 5, 8, 9, 6, 3, 2, 4, 4)"
      ]
     },
     "execution_count": 68,
     "metadata": {},
     "output_type": "execute_result"
    }
   ],
   "source": [
    "# sorting tuple\n",
    "\n",
    "tuple3 = (0,1,5,8,9,6,3,2,4,4)\n",
    "# sorting: Arranged in ascending or descending order.\n",
    "tuple3"
   ]
  },
  {
   "cell_type": "code",
   "execution_count": 71,
   "id": "c1ea44e4-8661-422b-b8fb-10759fd0e10e",
   "metadata": {},
   "outputs": [
    {
     "name": "stdout",
     "output_type": "stream",
     "text": [
      "[0, 1, 2, 3, 4, 4, 5, 6, 8, 9]\n",
      "<class 'list'>\n"
     ]
    }
   ],
   "source": [
    "tuple4 = sorted(tuple3)\n",
    "print(tuple4)\n",
    "print(type(tuple4))"
   ]
  },
  {
   "cell_type": "code",
   "execution_count": 74,
   "id": "7432d073-6f5d-4965-9c58-fbc0726ccf48",
   "metadata": {},
   "outputs": [
    {
     "name": "stdout",
     "output_type": "stream",
     "text": [
      "[9, 8, 6, 5, 4, 4, 3, 2, 1, 0]\n"
     ]
    }
   ],
   "source": [
    "# Descending order.\n",
    "\n",
    "desc1 = tuple4[::-1]\n",
    "print(desc1)"
   ]
  },
  {
   "cell_type": "code",
   "execution_count": 75,
   "id": "9753c4fd-5ae4-44db-bf61-277347cb92af",
   "metadata": {},
   "outputs": [
    {
     "name": "stdout",
     "output_type": "stream",
     "text": [
      "('Hello world', 100)\n"
     ]
    }
   ],
   "source": [
    "# deleting whole tuple\n",
    "\n",
    "tup2 = ('Hello world',100)\n",
    "print(tup2)"
   ]
  },
  {
   "cell_type": "code",
   "execution_count": 76,
   "id": "826c65c3-aea8-41b3-9033-32a3256b934b",
   "metadata": {},
   "outputs": [
    {
     "ename": "TypeError",
     "evalue": "'tuple' object doesn't support item deletion",
     "output_type": "error",
     "traceback": [
      "\u001b[1;31m---------------------------------------------------------------------------\u001b[0m",
      "\u001b[1;31mTypeError\u001b[0m                                 Traceback (most recent call last)",
      "Cell \u001b[1;32mIn[76], line 1\u001b[0m\n\u001b[1;32m----> 1\u001b[0m \u001b[38;5;28;01mdel\u001b[39;00m(\u001b[43mtup2\u001b[49m\u001b[43m[\u001b[49m\u001b[38;5;241;43m0\u001b[39;49m\u001b[43m]\u001b[49m)\n",
      "\u001b[1;31mTypeError\u001b[0m: 'tuple' object doesn't support item deletion"
     ]
    }
   ],
   "source": [
    "del(tup2[0])"
   ]
  },
  {
   "cell_type": "code",
   "execution_count": 77,
   "id": "acb62703-0392-434c-a686-92d16a25f5a1",
   "metadata": {},
   "outputs": [],
   "source": [
    "del(tup2)"
   ]
  },
  {
   "cell_type": "code",
   "execution_count": 78,
   "id": "1b1b6e83-34cc-4fdd-a893-378c4f393591",
   "metadata": {},
   "outputs": [
    {
     "ename": "NameError",
     "evalue": "name 'tup2' is not defined",
     "output_type": "error",
     "traceback": [
      "\u001b[1;31m---------------------------------------------------------------------------\u001b[0m",
      "\u001b[1;31mNameError\u001b[0m                                 Traceback (most recent call last)",
      "Cell \u001b[1;32mIn[78], line 1\u001b[0m\n\u001b[1;32m----> 1\u001b[0m \u001b[43mtup2\u001b[49m\n",
      "\u001b[1;31mNameError\u001b[0m: name 'tup2' is not defined"
     ]
    }
   ],
   "source": [
    "tup2"
   ]
  },
  {
   "cell_type": "code",
   "execution_count": 80,
   "id": "1e2c911c-38d1-471b-8df5-9b783d7ee664",
   "metadata": {},
   "outputs": [
    {
     "name": "stdout",
     "output_type": "stream",
     "text": [
      "('Hello world', 100, ['Hello python'])\n"
     ]
    }
   ],
   "source": [
    "tup2 = ('Hello world',100,['Hello python'])\n",
    "print(tup2)"
   ]
  },
  {
   "cell_type": "code",
   "execution_count": 83,
   "id": "9783dd2a-af74-48a4-9153-0079c06088f7",
   "metadata": {},
   "outputs": [],
   "source": [
    "del(tup2[2][0])"
   ]
  },
  {
   "cell_type": "code",
   "execution_count": 84,
   "id": "64dd7472-ac76-417a-8c15-7cd3a5a5894b",
   "metadata": {},
   "outputs": [
    {
     "data": {
      "text/plain": [
       "('Hello world', 100, [])"
      ]
     },
     "execution_count": 84,
     "metadata": {},
     "output_type": "execute_result"
    }
   ],
   "source": [
    "tup2"
   ]
  },
  {
   "cell_type": "code",
   "execution_count": 85,
   "id": "262a88d2-b019-4a69-aa4d-4de13b9d2c3f",
   "metadata": {},
   "outputs": [
    {
     "ename": "TypeError",
     "evalue": "'tuple' object doesn't support item deletion",
     "output_type": "error",
     "traceback": [
      "\u001b[1;31m---------------------------------------------------------------------------\u001b[0m",
      "\u001b[1;31mTypeError\u001b[0m                                 Traceback (most recent call last)",
      "Cell \u001b[1;32mIn[85], line 1\u001b[0m\n\u001b[1;32m----> 1\u001b[0m \u001b[38;5;28;01mdel\u001b[39;00m(\u001b[43mtup2\u001b[49m\u001b[43m[\u001b[49m\u001b[38;5;241;43m2\u001b[39;49m\u001b[43m]\u001b[49m)\n",
      "\u001b[1;31mTypeError\u001b[0m: 'tuple' object doesn't support item deletion"
     ]
    }
   ],
   "source": [
    "del(tup2[2])"
   ]
  },
  {
   "cell_type": "code",
   "execution_count": 86,
   "id": "5a1cb668-3d0a-4b15-9fb1-69e41145411f",
   "metadata": {},
   "outputs": [
    {
     "data": {
      "text/plain": [
       "('Hello world', 100, [])"
      ]
     },
     "execution_count": 86,
     "metadata": {},
     "output_type": "execute_result"
    }
   ],
   "source": [
    "tup2"
   ]
  },
  {
   "cell_type": "code",
   "execution_count": null,
   "id": "fdd05f76-a7df-4062-aec0-be43af4646a4",
   "metadata": {},
   "outputs": [],
   "source": []
  }
 ],
 "metadata": {
  "kernelspec": {
   "display_name": "Python 3 (ipykernel)",
   "language": "python",
   "name": "python3"
  },
  "language_info": {
   "codemirror_mode": {
    "name": "ipython",
    "version": 3
   },
   "file_extension": ".py",
   "mimetype": "text/x-python",
   "name": "python",
   "nbconvert_exporter": "python",
   "pygments_lexer": "ipython3",
   "version": "3.12.2"
  }
 },
 "nbformat": 4,
 "nbformat_minor": 5
}
