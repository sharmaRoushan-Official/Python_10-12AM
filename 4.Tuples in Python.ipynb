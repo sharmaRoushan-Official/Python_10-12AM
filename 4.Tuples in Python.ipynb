{
 "cells": [
  {
   "cell_type": "markdown",
   "id": "9a840852-0856-4884-b044-742c12eb5f75",
   "metadata": {},
   "source": [
    "# 4. Tuples in Python\n",
    "\n",
    " * __Tuples are immutable lists and cannot be changed in any way once it is created.__\n",
    " * __They are enclosed within parenthesis and not within square braces.__\n",
    " * __Tuples are ordered, indexed collections of data.__\n",
    " * __Similar to string indices, the first value in the tuple will have the index[0], the second value[1].__\n",
    " * __Negative indices are counted from the end of the tuple, just like lists.__\n",
    " * __Tuple also has the same structure where commas separate the value.__\n",
    " * __Tuples can store duplicate values.__\n",
    " * __Tuples allow you to store several data items including string, integer, float in one variable.__"
   ]
  },
  {
   "cell_type": "code",
   "execution_count": null,
   "id": "6e4afce7-cdcf-480e-a2a2-482feb89b881",
   "metadata": {},
   "outputs": [],
   "source": []
  }
 ],
 "metadata": {
  "kernelspec": {
   "display_name": "Python 3 (ipykernel)",
   "language": "python",
   "name": "python3"
  },
  "language_info": {
   "codemirror_mode": {
    "name": "ipython",
    "version": 3
   },
   "file_extension": ".py",
   "mimetype": "text/x-python",
   "name": "python",
   "nbconvert_exporter": "python",
   "pygments_lexer": "ipython3",
   "version": "3.12.2"
  }
 },
 "nbformat": 4,
 "nbformat_minor": 5
}
