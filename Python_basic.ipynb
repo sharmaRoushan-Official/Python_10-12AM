{
 "cells": [
  {
   "cell_type": "markdown",
   "id": "b08ba76f-f841-4dff-b4cb-54c7ede959a9",
   "metadata": {},
   "source": [
    "# Python Basic"
   ]
  },
  {
   "cell_type": "code",
   "execution_count": 2,
   "id": "8565c9f3-cdca-4b52-8102-8919a58a1a73",
   "metadata": {},
   "outputs": [
    {
     "name": "stdout",
     "output_type": "stream",
     "text": [
      "Hello world\n"
     ]
    }
   ],
   "source": [
    "print(\"Hello world\")"
   ]
  },
  {
   "cell_type": "code",
   "execution_count": 3,
   "id": "49635a54-62f6-4a67-afb7-656fad39c9d9",
   "metadata": {},
   "outputs": [
    {
     "name": "stdout",
     "output_type": "stream",
     "text": [
      "123\n"
     ]
    }
   ],
   "source": [
    "print(\"123\")"
   ]
  },
  {
   "cell_type": "code",
   "execution_count": 4,
   "id": "9b1b12c1-bdc4-481e-b4bc-4c7e8ec67a17",
   "metadata": {},
   "outputs": [
    {
     "data": {
      "text/plain": [
       "''"
      ]
     },
     "execution_count": 4,
     "metadata": {},
     "output_type": "execute_result"
    }
   ],
   "source": [
    "'' #<---------single quotes.\n",
    "\n",
    "\"\"  #<--------double quotes."
   ]
  },
  {
   "cell_type": "code",
   "execution_count": 5,
   "id": "052ba5ea-5c26-492c-95be-6b3266689a14",
   "metadata": {},
   "outputs": [
    {
     "name": "stdout",
     "output_type": "stream",
     "text": [
      "Hello world\n"
     ]
    }
   ],
   "source": [
    "print('Hello world')"
   ]
  },
  {
   "cell_type": "code",
   "execution_count": 6,
   "id": "6dedbd8f-d300-46f7-9022-eac650926b11",
   "metadata": {},
   "outputs": [
    {
     "name": "stdout",
     "output_type": "stream",
     "text": [
      "@#$%^\n"
     ]
    }
   ],
   "source": [
    "print('@#$%^')"
   ]
  },
  {
   "cell_type": "code",
   "execution_count": 7,
   "id": "2606cca4-1592-4f33-81b4-e72a66ca90b4",
   "metadata": {},
   "outputs": [
    {
     "ename": "NameError",
     "evalue": "name 'Hello' is not defined",
     "output_type": "error",
     "traceback": [
      "\u001b[1;31m---------------------------------------------------------------------------\u001b[0m",
      "\u001b[1;31mNameError\u001b[0m                                 Traceback (most recent call last)",
      "Cell \u001b[1;32mIn[7], line 1\u001b[0m\n\u001b[1;32m----> 1\u001b[0m \u001b[38;5;28mprint\u001b[39m(\u001b[43mHello\u001b[49m)\n",
      "\u001b[1;31mNameError\u001b[0m: name 'Hello' is not defined"
     ]
    }
   ],
   "source": [
    "print(Hello)"
   ]
  },
  {
   "cell_type": "code",
   "execution_count": 9,
   "id": "e852068b-73e3-4eae-aa8d-a16f4bc28708",
   "metadata": {},
   "outputs": [
    {
     "name": "stdout",
     "output_type": "stream",
     "text": [
      "h\n"
     ]
    }
   ],
   "source": [
    "print('h')"
   ]
  },
  {
   "cell_type": "code",
   "execution_count": 10,
   "id": "cab97f1b-a2c5-464a-8fc2-a3e23f7aa61d",
   "metadata": {},
   "outputs": [
    {
     "name": "stdout",
     "output_type": "stream",
     "text": [
      "12345\n"
     ]
    }
   ],
   "source": [
    "print(\"12345\")"
   ]
  },
  {
   "cell_type": "code",
   "execution_count": 11,
   "id": "f1b536b0-7724-4f3a-8639-8b2973fa3987",
   "metadata": {},
   "outputs": [
    {
     "name": "stdout",
     "output_type": "stream",
     "text": [
      "1235456\n"
     ]
    }
   ],
   "source": [
    "print(1235456)"
   ]
  },
  {
   "cell_type": "code",
   "execution_count": 12,
   "id": "001a9604-673e-42a3-b54b-944860bd43d1",
   "metadata": {},
   "outputs": [
    {
     "name": "stdout",
     "output_type": "stream",
     "text": [
      "10\n"
     ]
    }
   ],
   "source": [
    "var = 10  # Assignment operator. \n",
    "print(var)"
   ]
  },
  {
   "cell_type": "code",
   "execution_count": 16,
   "id": "b6f4ca53-8521-4c9c-b184-d15b360f2860",
   "metadata": {},
   "outputs": [
    {
     "ename": "SyntaxError",
     "evalue": "cannot assign to literal here. Maybe you meant '==' instead of '='? (772015188.py, line 1)",
     "output_type": "error",
     "traceback": [
      "\u001b[1;36m  Cell \u001b[1;32mIn[16], line 1\u001b[1;36m\u001b[0m\n\u001b[1;33m    1 = 'Helllo'\u001b[0m\n\u001b[1;37m    ^\u001b[0m\n\u001b[1;31mSyntaxError\u001b[0m\u001b[1;31m:\u001b[0m cannot assign to literal here. Maybe you meant '==' instead of '='?\n"
     ]
    }
   ],
   "source": [
    "1 = 'Helllo'\n"
   ]
  },
  {
   "cell_type": "code",
   "execution_count": 17,
   "id": "c8f24eda-50bf-4a34-9d98-2c5f9d7a5b9c",
   "metadata": {},
   "outputs": [],
   "source": [
    "# Comment \"#\" hatch symbol\n",
    "# comment is not readable by the system"
   ]
  },
  {
   "cell_type": "code",
   "execution_count": 18,
   "id": "8567ffda-bafe-48ce-8899-bf0c9e066e2b",
   "metadata": {},
   "outputs": [],
   "source": [
    "import sys   # system"
   ]
  },
  {
   "cell_type": "code",
   "execution_count": 19,
   "id": "deb6ed2b-0fe0-41e3-8f5e-a4e5f4770249",
   "metadata": {},
   "outputs": [
    {
     "name": "stdout",
     "output_type": "stream",
     "text": [
      "3.12.2 (tags/v3.12.2:6abddd9, Feb  6 2024, 21:26:36) [MSC v.1937 64 bit (AMD64)]\n"
     ]
    }
   ],
   "source": [
    "print(sys.version)"
   ]
  },
  {
   "cell_type": "code",
   "execution_count": 20,
   "id": "51062013-cfbb-4dd9-8e7d-b37186e349c3",
   "metadata": {},
   "outputs": [
    {
     "name": "stdout",
     "output_type": "stream",
     "text": [
      "Hello world\n"
     ]
    }
   ],
   "source": [
    "print('Hello world')"
   ]
  },
  {
   "cell_type": "code",
   "execution_count": 21,
   "id": "d8df1208-a9cf-40b5-98df-0a8629301c79",
   "metadata": {},
   "outputs": [
    {
     "name": "stdout",
     "output_type": "stream",
     "text": [
      "Hello world\n"
     ]
    }
   ],
   "source": [
    "print(\"Hello world\")"
   ]
  },
  {
   "cell_type": "markdown",
   "id": "a6696b12-7030-4350-9460-4772829637c0",
   "metadata": {},
   "source": [
    "# Data Typecasting"
   ]
  },
  {
   "cell_type": "code",
   "execution_count": 8,
   "id": "dbf9e858-6fb8-4b03-9e12-a872a2115c46",
   "metadata": {},
   "outputs": [
    {
     "name": "stdout",
     "output_type": "stream",
     "text": [
      "Hello world\n",
      "123\n",
      "123\n",
      "100\n",
      "145\n",
      "100.0\n",
      "789.23\n",
      "True\n",
      "False\n"
     ]
    }
   ],
   "source": [
    "# string\n",
    "print('Hello world')\n",
    "print('123')\n",
    "\n",
    "# Integer\n",
    "print(123)\n",
    "print(100)\n",
    "print(145)\n",
    "\n",
    "# float\n",
    "print(100.0)\n",
    "print(789.23)\n",
    "\n",
    "# Boolean\n",
    "print(True)\n",
    "print(False)"
   ]
  },
  {
   "cell_type": "markdown",
   "id": "f6bc212c-cb94-4fdf-abc5-38068845bab0",
   "metadata": {},
   "source": [
    "# type() keyword in python\n"
   ]
  },
  {
   "cell_type": "code",
   "execution_count": 16,
   "id": "e21ef797-9b70-4288-a41d-9e605f6d462a",
   "metadata": {},
   "outputs": [
    {
     "name": "stdout",
     "output_type": "stream",
     "text": [
      "Hello world\n",
      "<class 'str'>\n",
      "123\n",
      "<class 'str'>\n",
      "123\n",
      "<class 'int'>\n",
      "100\n",
      "<class 'int'>\n",
      "145\n",
      "<class 'int'>\n",
      "100.0\n",
      "<class 'float'>\n",
      "789.23\n",
      "<class 'float'>\n",
      "True\n",
      "<class 'bool'>\n",
      "False\n",
      "<class 'bool'>\n"
     ]
    }
   ],
   "source": [
    "# with the help of type() function you can check the data type of python.\n",
    "\n",
    "# string\n",
    "print('Hello world')\n",
    "print(type('Hello world'))\n",
    "print('123')\n",
    "print(type('123'))\n",
    "\n",
    "# Integer\n",
    "print(123)\n",
    "print(type(123))\n",
    "print(100)\n",
    "print(type(100))\n",
    "print(145)\n",
    "print(type(145))\n",
    "\n",
    "# float\n",
    "print(100.0)\n",
    "print(type(100.0))\n",
    "print(789.23)\n",
    "print(type(789.23))\n",
    "\n",
    "# Boolean\n",
    "print(True)\n",
    "print(type(True))\n",
    "print(False)\n",
    "print(type(False))"
   ]
  },
  {
   "cell_type": "code",
   "execution_count": 21,
   "id": "1cc7e7bf-994f-4630-8498-ef9aafaf13df",
   "metadata": {},
   "outputs": [
    {
     "name": "stdout",
     "output_type": "stream",
     "text": [
      "1235\n",
      "128\n"
     ]
    }
   ],
   "source": [
    "#\n",
    "print('123'+'5')  #1235\n",
    "print(123+5)"
   ]
  },
  {
   "cell_type": "markdown",
   "id": "53911db8-361c-42c7-b1a5-64ff351fe89f",
   "metadata": {},
   "source": [
    "# Data typecasting"
   ]
  },
  {
   "cell_type": "code",
   "execution_count": 24,
   "id": "0ef19e11-f6e6-4d5e-a9ed-6394fa061aba",
   "metadata": {},
   "outputs": [
    {
     "name": "stdout",
     "output_type": "stream",
     "text": [
      "100\n",
      "<class 'int'>\n",
      "100\n",
      "<class 'str'>\n",
      "100.0\n",
      "<class 'float'>\n"
     ]
    }
   ],
   "source": [
    "val = 100   #int  # float or string\n",
    "print(val)\n",
    "print(type(val))\n",
    "\n",
    "#string\n",
    "str1 = str(val)\n",
    "print(str1)\n",
    "print(type(str1))\n",
    "\n",
    "\n",
    "# float\n",
    "float1 = float(val)\n",
    "print(float1)\n",
    "print(type(float1))"
   ]
  },
  {
   "cell_type": "code",
   "execution_count": 26,
   "id": "cb8bb0ba-cce3-4520-8dc9-093e8d448fe9",
   "metadata": {},
   "outputs": [
    {
     "name": "stdout",
     "output_type": "stream",
     "text": [
      "145.23\n",
      "<class 'str'>\n",
      "145\n",
      "<class 'int'>\n"
     ]
    }
   ],
   "source": [
    "# float value\n",
    "val2 = 145.23  # float, # int, string.\n",
    "\n",
    "# string\n",
    "str1 = str(val2)\n",
    "print(str1)\n",
    "print(type(str1))\n",
    "\n",
    "#integer \n",
    "int1 = int(val2)\n",
    "print(int1)\n",
    "print(type(int1))"
   ]
  },
  {
   "cell_type": "code",
   "execution_count": 28,
   "id": "b36b5583-65be-4419-bdd5-5c86dff77e54",
   "metadata": {},
   "outputs": [
    {
     "name": "stdout",
     "output_type": "stream",
     "text": [
      "1.0\n",
      "<class 'float'>\n"
     ]
    }
   ],
   "source": [
    "# Boolean\n",
    "\n",
    "bool1 = True  # string=True, int=1, float=1.0\n",
    "bool2 = False #string=False, int=0, float=0.0\n",
    "\n",
    "float1 = float(bool1)\n",
    "print(float1)\n",
    "print(type(float1))"
   ]
  },
  {
   "cell_type": "code",
   "execution_count": 29,
   "id": "367aa660-2752-485f-bb70-60cb62d61199",
   "metadata": {},
   "outputs": [
    {
     "name": "stdout",
     "output_type": "stream",
     "text": [
      "-4238\n"
     ]
    }
   ],
   "source": [
    "# Expression and variable\n",
    "\n",
    "val1 = 52+78-78*56\n",
    "print(val1)"
   ]
  },
  {
   "cell_type": "code",
   "execution_count": 30,
   "id": "d9212e81-0d3c-4761-b8d4-0be8d4f55455",
   "metadata": {},
   "outputs": [
    {
     "name": "stdout",
     "output_type": "stream",
     "text": [
      "156\n"
     ]
    }
   ],
   "source": [
    "# Addition (+)\n",
    "add1 = 78+78\n",
    "print(add1)"
   ]
  },
  {
   "cell_type": "code",
   "execution_count": 31,
   "id": "94709f0b-5766-460f-9f81-01a788170b07",
   "metadata": {},
   "outputs": [
    {
     "name": "stdout",
     "output_type": "stream",
     "text": [
      "-33\n"
     ]
    }
   ],
   "source": [
    "# substraction\n",
    "\n",
    "sub1 = 45-78\n",
    "print(sub1)"
   ]
  },
  {
   "cell_type": "code",
   "execution_count": 32,
   "id": "550c481e-ddea-4273-abfe-7733a722bdb3",
   "metadata": {},
   "outputs": [
    {
     "name": "stdout",
     "output_type": "stream",
     "text": [
      "390\n"
     ]
    }
   ],
   "source": [
    "# multiplication\n",
    "mult1 = 78*5\n",
    "print(mult1)"
   ]
  },
  {
   "cell_type": "code",
   "execution_count": 34,
   "id": "772c1766-af7b-46fc-a3ed-a7a22c9cbf79",
   "metadata": {},
   "outputs": [
    {
     "name": "stdout",
     "output_type": "stream",
     "text": [
      "2.5\n"
     ]
    }
   ],
   "source": [
    "# division\n",
    "\n",
    "div1 = 5/2   # division\n",
    "print(div1)\n"
   ]
  },
  {
   "cell_type": "code",
   "execution_count": 35,
   "id": "0f2c38b7-4840-48be-b49c-cf14d3ad0291",
   "metadata": {},
   "outputs": [
    {
     "name": "stdout",
     "output_type": "stream",
     "text": [
      "2\n"
     ]
    }
   ],
   "source": [
    "div2 = 5//2  # floor\n",
    "print(div2)"
   ]
  },
  {
   "cell_type": "code",
   "execution_count": 36,
   "id": "ac9b145c-32c5-4751-be5e-06fbac0bbf89",
   "metadata": {},
   "outputs": [
    {
     "name": "stdout",
     "output_type": "stream",
     "text": [
      "1\n"
     ]
    }
   ],
   "source": [
    "# Modulus: It return remainder value.\n",
    "\n",
    "mod1 = 5%2\n",
    "print(mod1)"
   ]
  },
  {
   "cell_type": "code",
   "execution_count": 37,
   "id": "184f0085-6043-461b-b34b-b359ca0c1059",
   "metadata": {},
   "outputs": [
    {
     "name": "stdout",
     "output_type": "stream",
     "text": [
      "0\n"
     ]
    }
   ],
   "source": [
    "mod2 = 4%2\n",
    "print(mod2)"
   ]
  },
  {
   "cell_type": "code",
   "execution_count": 38,
   "id": "a3e30ad1-607d-4685-8257-857aac57d9a6",
   "metadata": {},
   "outputs": [
    {
     "name": "stdout",
     "output_type": "stream",
     "text": [
      "9\n"
     ]
    }
   ],
   "source": [
    "# Exponent (base and power)\n",
    "\n",
    "# base and power 3^2\n",
    "expo1 = 3**2\n",
    "print(expo1)"
   ]
  },
  {
   "cell_type": "code",
   "execution_count": null,
   "id": "fd1b1deb-116a-4e5c-b38d-b0d692770848",
   "metadata": {},
   "outputs": [],
   "source": []
  }
 ],
 "metadata": {
  "kernelspec": {
   "display_name": "Python 3 (ipykernel)",
   "language": "python",
   "name": "python3"
  },
  "language_info": {
   "codemirror_mode": {
    "name": "ipython",
    "version": 3
   },
   "file_extension": ".py",
   "mimetype": "text/x-python",
   "name": "python",
   "nbconvert_exporter": "python",
   "pygments_lexer": "ipython3",
   "version": "3.12.2"
  }
 },
 "nbformat": 4,
 "nbformat_minor": 5
}
