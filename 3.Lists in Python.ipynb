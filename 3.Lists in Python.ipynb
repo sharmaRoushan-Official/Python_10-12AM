{
 "cells": [
  {
   "cell_type": "markdown",
   "id": "ce73f260-310b-4fcb-a916-7d7607a2a400",
   "metadata": {},
   "source": [
    "# 3. Lists in python\n",
    "\n",
    " * __Lists are Orderded.__\n",
    " * __Lists can contain any arbitrary objects.__\n",
    " * __Lists elements can be accessed by index.__\n",
    " * __Lists can be nested to arbitrary depth.__\n",
    " * __Lists are mutable.__\n",
    " * __Lists are dynamic.__"
   ]
  },
  {
   "cell_type": "code",
   "execution_count": 1,
   "id": "2e999437-4873-4904-aa02-b21026f06efa",
   "metadata": {},
   "outputs": [
    {
     "name": "stdout",
     "output_type": "stream",
     "text": [
      "[]\n",
      "<class 'list'>\n"
     ]
    }
   ],
   "source": [
    "# creating empty list.\n",
    "\n",
    "list1 = []  # square bracket.\n",
    "print(list1)\n",
    "print(type(list1))"
   ]
  },
  {
   "cell_type": "code",
   "execution_count": 2,
   "id": "962b91b9-e16a-4b57-9e65-befa2c7477fb",
   "metadata": {},
   "outputs": [
    {
     "name": "stdout",
     "output_type": "stream",
     "text": [
      "['Hello world', 3.147, 2024, True, False, [10, 20], ('Hey python', 40, 50), {1, 2, 50, 100, 120, 10}, {'a': 'apple', 'b': 'ball'}]\n"
     ]
    }
   ],
   "source": [
    "# List with an elements.\n",
    "\n",
    "list2 = ['Hello world',3.147,2024,True,False,[10,20],('Hey python',40,50),{1,2,10,50,100,120},{'a':'apple','b':'ball'}]\n",
    "print(list2)"
   ]
  },
  {
   "cell_type": "code",
   "execution_count": 3,
   "id": "337745ca-c1d6-465d-ab3e-da0f6676088e",
   "metadata": {},
   "outputs": [
    {
     "name": "stdout",
     "output_type": "stream",
     "text": [
      "<class 'list'>\n"
     ]
    }
   ],
   "source": [
    "print(type(list2))"
   ]
  },
  {
   "cell_type": "code",
   "execution_count": 6,
   "id": "2df6f6fb-dfe2-4dd0-88c3-33df541814fe",
   "metadata": {},
   "outputs": [
    {
     "name": "stdout",
     "output_type": "stream",
     "text": [
      "Hello world\n",
      "<class 'str'>\n"
     ]
    }
   ],
   "source": [
    "# Acessing element with positive and negative value.\n",
    "\n",
    "print(list2[0])\n",
    "print(type(list2[0]))"
   ]
  },
  {
   "cell_type": "markdown",
   "id": "3be46e0d-9a83-4e91-9cf9-2d2d202d37d0",
   "metadata": {},
   "source": [
    "# What can content a list?\n",
    "\n",
    " * __Strings__\n",
    " * __Floats__\n",
    " * __Integer__\n",
    " * __Boolean__\n",
    " * __Nested list__\n",
    " * __Nested tuples__\n",
    " * __Nested Dictionary__\n",
    " * __and other data structures__"
   ]
  },
  {
   "cell_type": "markdown",
   "id": "09f27011-b3aa-4ea6-bcbe-7449d6063830",
   "metadata": {},
   "source": [
    "# list operations"
   ]
  },
  {
   "cell_type": "code",
   "execution_count": 8,
   "id": "1a28edbe-474c-413d-9a40-17762a4cdb08",
   "metadata": {},
   "outputs": [
    {
     "data": {
      "text/plain": [
       "['Hello world',\n",
       " 3.147,\n",
       " 2024,\n",
       " True,\n",
       " False,\n",
       " [10, 20],\n",
       " ('Hey python', 40, 50),\n",
       " {1, 2, 10, 50, 100, 120},\n",
       " {'a': 'apple', 'b': 'ball'}]"
      ]
     },
     "execution_count": 8,
     "metadata": {},
     "output_type": "execute_result"
    }
   ],
   "source": [
    "list2 = ['Hello world',3.147,2024,True,False,[10,20],('Hey python',40,50),{1,2,10,50,100,120},{'a':'apple','b':'ball'}]\n",
    "list2"
   ]
  },
  {
   "cell_type": "code",
   "execution_count": 9,
   "id": "1d4abf92-41ae-47d4-8714-ce75e8c60d01",
   "metadata": {},
   "outputs": [],
   "source": [
    "# slicing in lists"
   ]
  },
  {
   "cell_type": "code",
   "execution_count": 11,
   "id": "371b0cae-7197-4472-b2f9-e0859880988f",
   "metadata": {},
   "outputs": [
    {
     "data": {
      "text/plain": [
       "['Hello world', 3.147, 2024, True, False]"
      ]
     },
     "execution_count": 11,
     "metadata": {},
     "output_type": "execute_result"
    }
   ],
   "source": [
    "list2[0:5]"
   ]
  },
  {
   "cell_type": "code",
   "execution_count": 13,
   "id": "46f529e6-ad15-4b4f-8761-3d09c4d18424",
   "metadata": {},
   "outputs": [
    {
     "data": {
      "text/plain": [
       "[[10, 20],\n",
       " ('Hey python', 40, 50),\n",
       " {1, 2, 10, 50, 100, 120},\n",
       " {'a': 'apple', 'b': 'ball'}]"
      ]
     },
     "execution_count": 13,
     "metadata": {},
     "output_type": "execute_result"
    }
   ],
   "source": [
    "list2[5:]"
   ]
  },
  {
   "cell_type": "markdown",
   "id": "b3a0bb4c-91af-47be-8a6c-d8815715dda4",
   "metadata": {},
   "source": [
    "# Extending the list\n",
    " * __We use the extedn() function to add a new element to the list.__\n",
    " * __With the function, we add more than one element to the list.__"
   ]
  },
  {
   "cell_type": "code",
   "execution_count": 15,
   "id": "098804d5-7120-4137-a372-591de27501ff",
   "metadata": {},
   "outputs": [
    {
     "data": {
      "text/plain": [
       "['Hello world', 10]"
      ]
     },
     "execution_count": 15,
     "metadata": {},
     "output_type": "execute_result"
    }
   ],
   "source": [
    "# CRUD:Create, Read, Update, Delete.\n",
    "list2=['Hello world',10]\n",
    "list2"
   ]
  },
  {
   "cell_type": "code",
   "execution_count": 16,
   "id": "bf344152-fbad-4315-a302-b0c33655696e",
   "metadata": {},
   "outputs": [],
   "source": [
    "# append,Extend, Insert  -> To add element inside the list."
   ]
  },
  {
   "cell_type": "code",
   "execution_count": 17,
   "id": "aefb28fa-f0c1-4405-8db8-4bf0d8fd8aa9",
   "metadata": {},
   "outputs": [
    {
     "data": {
      "text/plain": [
       "['Hello world', 10, 'Shashank', 100, 20]"
      ]
     },
     "execution_count": 17,
     "metadata": {},
     "output_type": "execute_result"
    }
   ],
   "source": [
    "list2.extend(['Shashank',100,20])\n",
    "list2"
   ]
  },
  {
   "cell_type": "code",
   "execution_count": 18,
   "id": "402e299e-6007-43d8-8ecc-401a84832435",
   "metadata": {},
   "outputs": [
    {
     "data": {
      "text/plain": [
       "['Hello world', 10, 'Shashank', 100, 20, 'Pune']"
      ]
     },
     "execution_count": 18,
     "metadata": {},
     "output_type": "execute_result"
    }
   ],
   "source": [
    "# append() -> To add single element at a time you can use append method.\n",
    "\n",
    "list2.append('Pune')\n",
    "list2"
   ]
  },
  {
   "cell_type": "code",
   "execution_count": 19,
   "id": "e1540358-679c-4ebe-a734-61cdf070bff7",
   "metadata": {},
   "outputs": [
    {
     "ename": "TypeError",
     "evalue": "list.append() takes exactly one argument (2 given)",
     "output_type": "error",
     "traceback": [
      "\u001b[1;31m---------------------------------------------------------------------------\u001b[0m",
      "\u001b[1;31mTypeError\u001b[0m                                 Traceback (most recent call last)",
      "Cell \u001b[1;32mIn[19], line 1\u001b[0m\n\u001b[1;32m----> 1\u001b[0m \u001b[43mlist2\u001b[49m\u001b[38;5;241;43m.\u001b[39;49m\u001b[43mappend\u001b[49m\u001b[43m(\u001b[49m\u001b[38;5;124;43m'\u001b[39;49m\u001b[38;5;124;43mPune\u001b[39;49m\u001b[38;5;124;43m'\u001b[39;49m\u001b[43m,\u001b[49m\u001b[38;5;124;43m'\u001b[39;49m\u001b[38;5;124;43mgame\u001b[39;49m\u001b[38;5;124;43m'\u001b[39;49m\u001b[43m)\u001b[49m\n\u001b[0;32m      2\u001b[0m list2\n",
      "\u001b[1;31mTypeError\u001b[0m: list.append() takes exactly one argument (2 given)"
     ]
    }
   ],
   "source": [
    "list2.append('Pune','game')\n",
    "list2"
   ]
  },
  {
   "cell_type": "code",
   "execution_count": 21,
   "id": "956d5879-ef57-413c-80cd-c0a03c597a8a",
   "metadata": {},
   "outputs": [
    {
     "data": {
      "text/plain": [
       "['python', 'Hello world', 10, 'Shashank', 100, 20, 'Pune']"
      ]
     },
     "execution_count": 21,
     "metadata": {},
     "output_type": "execute_result"
    }
   ],
   "source": [
    "# insert() method-> It takes 2 argument at one time.\n",
    "\n",
    "list2.insert(0,'python')\n",
    "list2"
   ]
  },
  {
   "cell_type": "markdown",
   "id": "6b142dd4-ba05-4c77-b0ae-fc4fb950b80f",
   "metadata": {},
   "source": [
    "# len(), count(),index(),max(),min(),sum() functions"
   ]
  },
  {
   "cell_type": "code",
   "execution_count": 30,
   "id": "2dc9b533-2513-4bcc-9813-93d99101536f",
   "metadata": {},
   "outputs": [
    {
     "name": "stdout",
     "output_type": "stream",
     "text": [
      "Length of the list: 22\n",
      "Count of the list- 4\n",
      "Maximum of the value inside the list: 100\n",
      "Minimum of the value inside the list: -1\n",
      "Sum of the list: 202\n"
     ]
    }
   ],
   "source": [
    "lis = [1,2,3,4,5,6,5,5,5,5,7,8,8,9,9,9,9,2,0,1,100,-1]\n",
    "\n",
    "print('Length of the list:',len(lis))\n",
    "print('Count of the list-',lis.count(9))\n",
    "print('Maximum of the value inside the list:',max(lis))\n",
    "print('Minimum of the value inside the list:',min(lis))\n",
    "print('Sum of the list:',sum(lis))"
   ]
  },
  {
   "cell_type": "code",
   "execution_count": 31,
   "id": "a64ce19b-df8d-40de-acbe-1ce34af03723",
   "metadata": {},
   "outputs": [],
   "source": [
    "# updating the list \n",
    "list3 = [10,20]"
   ]
  },
  {
   "cell_type": "code",
   "execution_count": 32,
   "id": "33dcc115-2ecd-4355-96b1-2fc6a0683d94",
   "metadata": {},
   "outputs": [
    {
     "data": {
      "text/plain": [
       "[10, 20]"
      ]
     },
     "execution_count": 32,
     "metadata": {},
     "output_type": "execute_result"
    }
   ],
   "source": [
    "list3"
   ]
  },
  {
   "cell_type": "code",
   "execution_count": 34,
   "id": "0dc64eab-1e05-4e95-84ed-6c59d3a5c40a",
   "metadata": {},
   "outputs": [
    {
     "data": {
      "text/plain": [
       "[10, 200]"
      ]
     },
     "execution_count": 34,
     "metadata": {},
     "output_type": "execute_result"
    }
   ],
   "source": [
    "list3[1] = 200\n",
    "list3"
   ]
  },
  {
   "cell_type": "code",
   "execution_count": 35,
   "id": "e7c42093-0213-487b-9275-50ad27fa6c22",
   "metadata": {},
   "outputs": [
    {
     "data": {
      "text/plain": [
       "[10, 200]"
      ]
     },
     "execution_count": 35,
     "metadata": {},
     "output_type": "execute_result"
    }
   ],
   "source": [
    "# Deleting element inside the list\n",
    "\n",
    "list3"
   ]
  },
  {
   "cell_type": "code",
   "execution_count": 36,
   "id": "04ff7507-1163-42fe-bcc7-ab77cf3ecbdc",
   "metadata": {},
   "outputs": [],
   "source": [
    "del(list3[0])"
   ]
  },
  {
   "cell_type": "code",
   "execution_count": 37,
   "id": "bfdbf0e3-ffa1-4a27-a96b-11201135c77d",
   "metadata": {},
   "outputs": [
    {
     "data": {
      "text/plain": [
       "[200]"
      ]
     },
     "execution_count": 37,
     "metadata": {},
     "output_type": "execute_result"
    }
   ],
   "source": [
    "list3"
   ]
  },
  {
   "cell_type": "code",
   "execution_count": 38,
   "id": "28b81a0a-08ff-4bc4-9c11-f9df2fcdf00d",
   "metadata": {},
   "outputs": [],
   "source": [
    "# deleting the whole list\n",
    "\n",
    "del(list3)"
   ]
  },
  {
   "cell_type": "code",
   "execution_count": 39,
   "id": "484705b5-12d5-4737-ad6d-412d47d7d5e6",
   "metadata": {},
   "outputs": [
    {
     "ename": "NameError",
     "evalue": "name 'list3' is not defined",
     "output_type": "error",
     "traceback": [
      "\u001b[1;31m---------------------------------------------------------------------------\u001b[0m",
      "\u001b[1;31mNameError\u001b[0m                                 Traceback (most recent call last)",
      "Cell \u001b[1;32mIn[39], line 1\u001b[0m\n\u001b[1;32m----> 1\u001b[0m \u001b[43mlist3\u001b[49m\n",
      "\u001b[1;31mNameError\u001b[0m: name 'list3' is not defined"
     ]
    }
   ],
   "source": [
    "list3"
   ]
  },
  {
   "cell_type": "code",
   "execution_count": 44,
   "id": "9f3aec17-ad86-4800-a5cb-2a565c537501",
   "metadata": {},
   "outputs": [
    {
     "name": "stdout",
     "output_type": "stream",
     "text": [
      "Original List: [10, 20]\n",
      "Copied List: [10, 20]\n",
      "[10, 20, 'Hello']\n"
     ]
    }
   ],
   "source": [
    "# copy the list\n",
    "# shallow copy and deep copy\n",
    "# 1. Deep copy\n",
    "list1 = [10,20]\n",
    "print(\"Original List:\",list1)\n",
    "\n",
    "list2 = list1\n",
    "print(\"Copied List:\",list2)\n",
    "\n",
    "# adding element in to the list.\n",
    "list2.append(\"Hello\")\n",
    "print(list2)"
   ]
  },
  {
   "cell_type": "code",
   "execution_count": 45,
   "id": "70df8c66-496e-460d-8efa-775528954b07",
   "metadata": {},
   "outputs": [
    {
     "data": {
      "text/plain": [
       "[10, 20, 'Hello']"
      ]
     },
     "execution_count": 45,
     "metadata": {},
     "output_type": "execute_result"
    }
   ],
   "source": [
    "list1"
   ]
  },
  {
   "cell_type": "code",
   "execution_count": 48,
   "id": "458e7ac8-3b2c-4799-861a-6b790870e8ed",
   "metadata": {},
   "outputs": [
    {
     "name": "stdout",
     "output_type": "stream",
     "text": [
      "Original List: [10, 20, 100]\n",
      "Copied List: [10, 20, 100]\n"
     ]
    }
   ],
   "source": [
    "# shallow copy()\n",
    "\n",
    "list1 = [10,20,100]\n",
    "print(\"Original List:\",list1)\n",
    "list3 = list1.copy()\n",
    "print(\"Copied List:\",list3)"
   ]
  },
  {
   "cell_type": "code",
   "execution_count": 49,
   "id": "6dcbc0c1-4497-4dea-9936-5cab1b683b72",
   "metadata": {},
   "outputs": [
    {
     "name": "stdout",
     "output_type": "stream",
     "text": [
      "[10, 20, 100, 'hello']\n"
     ]
    }
   ],
   "source": [
    "# Adding element in to the list\n",
    "\n",
    "list1.append('hello')\n",
    "print(list1)"
   ]
  },
  {
   "cell_type": "code",
   "execution_count": 50,
   "id": "6fa6164c-21cd-40af-aaaf-06908d6f851c",
   "metadata": {},
   "outputs": [
    {
     "data": {
      "text/plain": [
       "[10, 20, 100]"
      ]
     },
     "execution_count": 50,
     "metadata": {},
     "output_type": "execute_result"
    }
   ],
   "source": [
    "list3"
   ]
  },
  {
   "cell_type": "code",
   "execution_count": 51,
   "id": "e0fb3096-9e09-45ed-a545-ee035d811728",
   "metadata": {},
   "outputs": [
    {
     "name": "stdin",
     "output_type": "stream",
     "text": [
      " Hello world\n"
     ]
    },
    {
     "name": "stdout",
     "output_type": "stream",
     "text": [
      "Hello world\n"
     ]
    }
   ],
   "source": [
    "# input() function\n",
    "#: with the help of input function user can take input from running program.\n",
    "\n",
    "x = input()\n",
    "print(x)"
   ]
  },
  {
   "cell_type": "code",
   "execution_count": 61,
   "id": "ea83affa-37bd-49bd-a544-0eb132a28df4",
   "metadata": {},
   "outputs": [
    {
     "name": "stdin",
     "output_type": "stream",
     "text": [
      "Enter any number: 2\n"
     ]
    },
    {
     "name": "stdout",
     "output_type": "stream",
     "text": [
      "2\n",
      "<class 'str'>\n"
     ]
    }
   ],
   "source": [
    "x = input('Enter any number:')\n",
    "print(x)\n"
   ]
  },
  {
   "cell_type": "code",
   "execution_count": 62,
   "id": "e1b690ee-9f6a-43b6-963c-8cbb03c180ff",
   "metadata": {},
   "outputs": [
    {
     "name": "stdin",
     "output_type": "stream",
     "text": [
      "Enter any value: 2\n"
     ]
    },
    {
     "name": "stdout",
     "output_type": "stream",
     "text": [
      "2\n",
      "<class 'int'>\n"
     ]
    }
   ],
   "source": [
    "x = int(input('Enter any value:'))\n",
    "print(x)\n",
    "print(type(x))"
   ]
  },
  {
   "cell_type": "code",
   "execution_count": 60,
   "id": "8375f5bc-c70d-4d13-9d5a-0df2210e068d",
   "metadata": {},
   "outputs": [
    {
     "name": "stdin",
     "output_type": "stream",
     "text": [
      "Enter any value: 2\n"
     ]
    },
    {
     "name": "stdout",
     "output_type": "stream",
     "text": [
      "2\n",
      "<class 'str'>\n"
     ]
    }
   ],
   "source": [
    "str1 = str(input('Enter any value:'))\n",
    "print(str1)\n",
    "print(type(str1))"
   ]
  },
  {
   "cell_type": "code",
   "execution_count": 63,
   "id": "ebbdaf6c-bb1d-4e06-96f0-cb4840bc1bae",
   "metadata": {},
   "outputs": [
    {
     "name": "stdin",
     "output_type": "stream",
     "text": [
      "Enter first value: 10\n",
      "Enter second value: 20\n"
     ]
    },
    {
     "name": "stdout",
     "output_type": "stream",
     "text": [
      "30\n"
     ]
    }
   ],
   "source": [
    "# format() funtion.\n",
    "\n",
    "x = int(input('Enter first value:'))\n",
    "y = int(input('Enter second value:'))\n",
    "print(x+y)"
   ]
  },
  {
   "cell_type": "code",
   "execution_count": 64,
   "id": "7c9e1e0b-ad38-47e7-b879-f4c9ad20b0a0",
   "metadata": {},
   "outputs": [
    {
     "name": "stdin",
     "output_type": "stream",
     "text": [
      "Enter first value: 10\n",
      "Enter second value: 20\n"
     ]
    },
    {
     "name": "stdout",
     "output_type": "stream",
     "text": [
      "Sum of the two values is: 30\n"
     ]
    }
   ],
   "source": [
    "x = int(input('Enter first value:'))\n",
    "y = int(input('Enter second value:'))\n",
    "total = x+y\n",
    "\n",
    "print('Sum of the two values is:',total)"
   ]
  },
  {
   "cell_type": "code",
   "execution_count": 65,
   "id": "745299fb-6565-4fc8-a115-ef177dc0da5b",
   "metadata": {},
   "outputs": [
    {
     "name": "stdin",
     "output_type": "stream",
     "text": [
      "Enter first value: 10\n",
      "Enter second value: 20\n"
     ]
    },
    {
     "name": "stdout",
     "output_type": "stream",
     "text": [
      "Sum of the two values 10 and 20 is 30:\n"
     ]
    }
   ],
   "source": [
    "x = int(input('Enter first value:'))\n",
    "y = int(input('Enter second value:'))\n",
    "total = x+y\n",
    "\n",
    "print('Sum of the two values {} and {} is {}:'.format(x,y,total))"
   ]
  },
  {
   "cell_type": "code",
   "execution_count": 66,
   "id": "b821d0bf-5675-4cb7-abcd-a4352cf317b7",
   "metadata": {},
   "outputs": [],
   "source": [
    "# Operator\n",
    "# 1. Mathematical Operator:+,-,*,/,%,**etc.\n",
    "# 2. comparison operator: <,>,<=,>=,==,!=\n",
    "# 3. Identity operator: is or is not\n",
    "# 4. Membership operator: in or not in\n",
    "# 5. Logical Operator: AND,OR,NOT"
   ]
  },
  {
   "cell_type": "code",
   "execution_count": 67,
   "id": "e0a7b8aa-8fe9-4df0-bf28-d1d244baf8b4",
   "metadata": {},
   "outputs": [
    {
     "name": "stdin",
     "output_type": "stream",
     "text": [
      "Enter first number: 10\n",
      "Enter second number: 20\n"
     ]
    },
    {
     "name": "stdout",
     "output_type": "stream",
     "text": [
      "Addition of the value is: 30\n",
      "Substraction of the value is: -10\n",
      "Multiplication of the value is: 200\n",
      "Division of the value is: 0.5\n"
     ]
    }
   ],
   "source": [
    "# 1. wap to take 2 input from user and find their, sum, sub, multiply, and division.\n",
    "\n",
    "x = int(input('Enter first number:'))\n",
    "y = int(input('Enter second number:'))\n",
    "\n",
    "add = x+y\n",
    "print('Addition of the value is:',add)\n",
    "\n",
    "sub = x-y\n",
    "print('Substraction of the value is:',sub)\n",
    "\n",
    "multi = x*y\n",
    "print('Multiplication of the value is:',multi)\n",
    "\n",
    "div = x/y\n",
    "print('Division of the value is:',div)"
   ]
  },
  {
   "cell_type": "code",
   "execution_count": null,
   "id": "9664ce55-32dd-4977-a5bf-44bb2f53a1ee",
   "metadata": {},
   "outputs": [],
   "source": []
  }
 ],
 "metadata": {
  "kernelspec": {
   "display_name": "Python 3 (ipykernel)",
   "language": "python",
   "name": "python3"
  },
  "language_info": {
   "codemirror_mode": {
    "name": "ipython",
    "version": 3
   },
   "file_extension": ".py",
   "mimetype": "text/x-python",
   "name": "python",
   "nbconvert_exporter": "python",
   "pygments_lexer": "ipython3",
   "version": "3.12.2"
  }
 },
 "nbformat": 4,
 "nbformat_minor": 5
}
