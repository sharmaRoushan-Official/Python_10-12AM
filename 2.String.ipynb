{
 "cells": [
  {
   "cell_type": "markdown",
   "id": "3aa280a4-33dd-492f-a20f-faa9d700c47f",
   "metadata": {},
   "source": [
    "# Sequence data types in python\n",
    "\n",
    "# 1. String\n",
    "# 2. List\n",
    "# 3. Tuples"
   ]
  },
  {
   "cell_type": "code",
   "execution_count": 1,
   "id": "843e1988-e715-4516-9028-59839578953a",
   "metadata": {},
   "outputs": [],
   "source": [
    "# 1. String"
   ]
  },
  {
   "cell_type": "code",
   "execution_count": 2,
   "id": "b1ee36db-7563-47e8-86ce-47de5ae73dbc",
   "metadata": {},
   "outputs": [
    {
     "name": "stdout",
     "output_type": "stream",
     "text": [
      "Hello world\n"
     ]
    }
   ],
   "source": [
    "# Wathever you write inside the quotes is string data types.\n",
    "\n",
    "print('Hello world')"
   ]
  },
  {
   "cell_type": "code",
   "execution_count": 3,
   "id": "f27b1ff1-0a3a-4ff2-b55c-a5399ad4421e",
   "metadata": {},
   "outputs": [
    {
     "name": "stdout",
     "output_type": "stream",
     "text": [
      "Hello world\n"
     ]
    }
   ],
   "source": [
    "print(\"Hello world\")"
   ]
  },
  {
   "cell_type": "code",
   "execution_count": 4,
   "id": "ed1b8449-2b61-4dee-981f-5de52c2dd89e",
   "metadata": {},
   "outputs": [
    {
     "name": "stdout",
     "output_type": "stream",
     "text": [
      "7896654123\n"
     ]
    }
   ],
   "source": [
    "print('7896654123')"
   ]
  },
  {
   "cell_type": "code",
   "execution_count": 5,
   "id": "fa220dbe-2674-42ef-85fd-b0bc6d7972d3",
   "metadata": {},
   "outputs": [
    {
     "name": "stdout",
     "output_type": "stream",
     "text": [
      "!@#$%^&\n"
     ]
    }
   ],
   "source": [
    "print('!@#$%^&')"
   ]
  },
  {
   "cell_type": "code",
   "execution_count": 6,
   "id": "2cb69383-f113-4a1b-8eb9-870ee1336b23",
   "metadata": {},
   "outputs": [
    {
     "name": "stdout",
     "output_type": "stream",
     "text": [
      "////\n"
     ]
    }
   ],
   "source": [
    "print('////')"
   ]
  },
  {
   "cell_type": "code",
   "execution_count": 7,
   "id": "1d16f929-a605-4926-96db-866b03994868",
   "metadata": {},
   "outputs": [
    {
     "name": "stdout",
     "output_type": "stream",
     "text": [
      "Hello World\n"
     ]
    }
   ],
   "source": [
    "# Indexing of string.\n",
    "\n",
    "message = \"Hello World\"\n",
    "print(message)"
   ]
  },
  {
   "cell_type": "code",
   "execution_count": 18,
   "id": "69f1a70e-121f-40f8-887d-f9d54843c983",
   "metadata": {},
   "outputs": [
    {
     "name": "stdout",
     "output_type": "stream",
     "text": [
      "H\n",
      "e\n",
      "l\n",
      "l\n",
      "o\n",
      " \n",
      "W\n",
      "o\n",
      "r\n",
      "l\n",
      "d\n"
     ]
    }
   ],
   "source": [
    "# indexing  (positive indexing)\n",
    "print(message[0])\n",
    "print(message[1])\n",
    "print(message[2])\n",
    "print(message[3])\n",
    "print(message[4])\n",
    "print(message[5])\n",
    "print(message[6])\n",
    "print(message[7])\n",
    "print(message[8])\n",
    "print(message[9])\n",
    "print(message[10])"
   ]
  },
  {
   "cell_type": "code",
   "execution_count": 20,
   "id": "791e670f-fb8b-4b1f-ab57-211bdf1155bc",
   "metadata": {},
   "outputs": [
    {
     "name": "stdout",
     "output_type": "stream",
     "text": [
      "d\n",
      "l\n",
      "r\n",
      "o\n",
      "W\n",
      " \n",
      "o\n",
      "l\n",
      "l\n",
      "e\n",
      "H\n"
     ]
    }
   ],
   "source": [
    "# Indexing value of negative\n",
    "print(message[-1])\n",
    "print(message[-2])\n",
    "print(message[-3])\n",
    "print(message[-4])\n",
    "print(message[-5])\n",
    "print(message[-6])\n",
    "print(message[-7])\n",
    "print(message[-8])\n",
    "print(message[-9])\n",
    "print(message[-10])\n",
    "print(message[-11])"
   ]
  },
  {
   "cell_type": "code",
   "execution_count": 21,
   "id": "47e1dda7-612d-449d-81c2-14a9ccdf4ed3",
   "metadata": {},
   "outputs": [
    {
     "data": {
      "text/plain": [
       "11"
      ]
     },
     "execution_count": 21,
     "metadata": {},
     "output_type": "execute_result"
    }
   ],
   "source": [
    "len(message)"
   ]
  },
  {
   "cell_type": "markdown",
   "id": "d8ddb346-0e30-4318-9edf-da56079925cf",
   "metadata": {},
   "source": [
    "# Concatenation of string"
   ]
  },
  {
   "cell_type": "code",
   "execution_count": 23,
   "id": "f5d89801-c675-40f5-a91d-8daa07c3ce99",
   "metadata": {},
   "outputs": [
    {
     "name": "stdout",
     "output_type": "stream",
     "text": [
      "Hello World\n"
     ]
    }
   ],
   "source": [
    "first_name = \"Hello\"\n",
    "middle_name= ' '\n",
    "last_name=\"World\"\n",
    "\n",
    "fullname= first_name+middle_name+last_name\n",
    "print(fullname)"
   ]
  },
  {
   "cell_type": "code",
   "execution_count": 24,
   "id": "70c303bc-fbfd-43de-953f-9dcb1619272f",
   "metadata": {},
   "outputs": [
    {
     "name": "stdout",
     "output_type": "stream",
     "text": [
      "Hello world How many people are living on the earth?\n"
     ]
    }
   ],
   "source": [
    "# Escape Sequence\n",
    "print('Hello world How many people are living on the earth?') "
   ]
  },
  {
   "cell_type": "code",
   "execution_count": 26,
   "id": "5830c9c3-c959-41bf-a45b-d831af226fdb",
   "metadata": {},
   "outputs": [
    {
     "ename": "SyntaxError",
     "evalue": "unterminated string literal (detected at line 1) (4138952293.py, line 1)",
     "output_type": "error",
     "traceback": [
      "\u001b[1;36m  Cell \u001b[1;32mIn[26], line 1\u001b[1;36m\u001b[0m\n\u001b[1;33m    print('\\')\u001b[0m\n\u001b[1;37m          ^\u001b[0m\n\u001b[1;31mSyntaxError\u001b[0m\u001b[1;31m:\u001b[0m unterminated string literal (detected at line 1)\n"
     ]
    }
   ],
   "source": [
    "print('\\')"
   ]
  },
  {
   "cell_type": "code",
   "execution_count": 29,
   "id": "4129f406-5500-4494-ac74-766c9e9195c2",
   "metadata": {},
   "outputs": [
    {
     "name": "stdout",
     "output_type": "stream",
     "text": [
      "\\\\\n"
     ]
    }
   ],
   "source": [
    "print('\\\\\\\\')"
   ]
  },
  {
   "cell_type": "code",
   "execution_count": 36,
   "id": "ea3c7491-c979-4f4c-bfaf-bd789bc8e67e",
   "metadata": {},
   "outputs": [
    {
     "name": "stdout",
     "output_type": "stream",
     "text": [
      "Hello world\n",
      "How many people are living on the earth?\n"
     ]
    }
   ],
   "source": [
    "# Escape Sequence\n",
    "print('Hello world\\nHow many people are living on the earth?')  #\\n -> new line"
   ]
  },
  {
   "cell_type": "code",
   "execution_count": 37,
   "id": "da01312e-2983-469f-8a25-1a5f572d38d1",
   "metadata": {},
   "outputs": [
    {
     "name": "stdout",
     "output_type": "stream",
     "text": [
      "Hello world\tHow many people are living on the earth?\n"
     ]
    }
   ],
   "source": [
    "# Escape Sequence\n",
    "print('Hello world\\tHow many people are living on the earth?')  #\\n -> new line"
   ]
  },
  {
   "cell_type": "code",
   "execution_count": 52,
   "id": "b1bfdeea-58cf-4c2f-ac37-bf8c9a0dccbe",
   "metadata": {},
   "outputs": [
    {
     "name": "stdout",
     "output_type": "stream",
     "text": [
      "HELLO WORLD HOW MANY PEOPLE ARE LIVING ON THE EARTH?\n",
      "hello world how many people are living on the earth?\n",
      "Hello world how many people are living on the earth?\n",
      "Hello World How Many People Are Living On The Earth?\n",
      "0\n",
      "43\n",
      "17\n",
      "28\n",
      "3\n",
      "2\n",
      "2\n",
      "Hello world How many people are living on the earth?\n",
      "Hey world How many people are living on the earth?\n",
      "hello world how many people are living on the earth?\n"
     ]
    }
   ],
   "source": [
    "# String Operations\n",
    "message=\"Hello world How many people are living on the earth?\"\n",
    "\n",
    "# uppercase.\n",
    "upper1 = message.upper()\n",
    "print(upper1)\n",
    "\n",
    "# lowercase\n",
    "lower1 = message.lower()\n",
    "print(lower1)\n",
    "\n",
    "# capitalize()\n",
    "cap1 = message.capitalize()\n",
    "print(cap1)\n",
    "\n",
    "#Title\n",
    "title1 = message.title()\n",
    "print(title1)\n",
    "\n",
    "# find:It returns the position of the character. index value.\n",
    "print(message.find(\"H\"))\n",
    "print(message.find('h'))\n",
    "print(message.find('a'))\n",
    "print(message.find('ar'))\n",
    "\n",
    "# count: It returns total numbers of character or words in the sentence.\n",
    "print(message.count('a'))\n",
    "print(message.count('h'))\n",
    "print(message.count('H'))\n",
    "\n",
    "\n",
    "# replace\n",
    "\n",
    "print(message)\n",
    "print(message.replace('Hello','Hey'))\n",
    "\n",
    "#casefold-lowercase\n",
    "\n",
    "print(message.casefold())"
   ]
  },
  {
   "cell_type": "code",
   "execution_count": 61,
   "id": "76a61c2e-ff5b-441e-8a89-434e2f59f620",
   "metadata": {},
   "outputs": [
    {
     "name": "stdout",
     "output_type": "stream",
     "text": [
      "----Hello world How many people are living on the earth?----\n"
     ]
    }
   ],
   "source": [
    "# center\n",
    "print(message.center(60,'-'))"
   ]
  },
  {
   "cell_type": "code",
   "execution_count": 56,
   "id": "3e1bcf5b-150b-4db8-b1bd-d9d8cc1d00ee",
   "metadata": {},
   "outputs": [
    {
     "name": "stdout",
     "output_type": "stream",
     "text": [
      "52\n"
     ]
    }
   ],
   "source": [
    "print(len(message))"
   ]
  },
  {
   "cell_type": "code",
   "execution_count": 64,
   "id": "2e31c4a8-aded-46e6-b261-cc3c19a159f0",
   "metadata": {},
   "outputs": [
    {
     "name": "stdout",
     "output_type": "stream",
     "text": [
      "Hello Vinod\n",
      "Hello Ramesh\n"
     ]
    }
   ],
   "source": [
    "# format\n",
    "\n",
    "txt = 'Hello {word}'  # {} placeholder\n",
    "\n",
    "print(txt.format(word=\"Vinod\"))\n",
    "print(txt.format(word=\"Ramesh\"))\n",
    "\n",
    "message1 = 'Hi,My name is {} and I am {} years old.'\n",
    "\n",
    "print(message1.)"
   ]
  },
  {
   "cell_type": "code",
   "execution_count": null,
   "id": "ccc6b617-292f-4477-80e2-cd4f5b78b385",
   "metadata": {},
   "outputs": [],
   "source": []
  }
 ],
 "metadata": {
  "kernelspec": {
   "display_name": "Python 3 (ipykernel)",
   "language": "python",
   "name": "python3"
  },
  "language_info": {
   "codemirror_mode": {
    "name": "ipython",
    "version": 3
   },
   "file_extension": ".py",
   "mimetype": "text/x-python",
   "name": "python",
   "nbconvert_exporter": "python",
   "pygments_lexer": "ipython3",
   "version": "3.12.2"
  }
 },
 "nbformat": 4,
 "nbformat_minor": 5
}
